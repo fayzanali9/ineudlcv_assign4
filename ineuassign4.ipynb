{
  "nbformat": 4,
  "nbformat_minor": 0,
  "metadata": {
    "colab": {
      "name": "ineuassign4.ipynb",
      "provenance": []
    },
    "kernelspec": {
      "name": "python3",
      "display_name": "Python 3"
    }
  },
  "cells": [
    {
      "cell_type": "code",
      "metadata": {
        "colab": {
          "base_uri": "https://localhost:8080/"
        },
        "id": "8G5XRIG3VTAh",
        "outputId": "1936f4ce-317c-4546-99d2-cfa752ef74c9"
      },
      "source": [
        "# 1.1 Write a Python Program(with class concepts) to find the area of the triangle using the below\n",
        "# formula.\n",
        "# area = (s*(s-a)*(s-b)*(s-c)) ** 0.5\n",
        "# Function to take the length of the sides of triangle from user should be defined in the parent\n",
        "# class and function to calculate the area should be defined in subclass.\n",
        "\n",
        "class Traingle:\n",
        "  def __init__(self):\n",
        "    self._s1 = int(input('enter side 1 value : '))\n",
        "    self._s2 = int(input('enter side 2 value : '))\n",
        "    self._s3 = int(input('enter side 3 value : '))\n",
        "\n",
        "\n",
        "class Area(Traingle):\n",
        "  def __init__(self):\n",
        "    Traingle.__init__(self)\n",
        "    s = (self._s1 + self._s2 + self._s3)/2\n",
        "    a = s*(s-self._s1) * (s-self._s2) * (s-self._s3)\n",
        "    a = a**0.5\n",
        "    print(a)\n",
        "\n",
        "a1 = Area()\n",
        "\n",
        "# above question is not right w.r.t OOPS as Traingle isnt area(not inheritance but aggregation). \n"
      ],
      "execution_count": null,
      "outputs": [
        {
          "output_type": "stream",
          "text": [
            "enter side 1 value : 5\n",
            "enter side 2 value : 6\n",
            "enter side 3 value : 7\n",
            "14.696938456699069\n"
          ],
          "name": "stdout"
        }
      ]
    },
    {
      "cell_type": "code",
      "metadata": {
        "colab": {
          "base_uri": "https://localhost:8080/"
        },
        "id": "AnnM2AGdm7qw",
        "outputId": "add43783-b01a-408d-9d13-f525f98834d8"
      },
      "source": [
        "# 1.2 Write a function filter_long_words() that takes a list of words and an integer n and returns\n",
        "# the list of words that are longer than n.\n",
        "\n",
        "def filter_long_words(list_words,n):\n",
        "  return [x for x in list_words if len(x) > n]\n",
        "print(filter_long_words(['a','bb','ccc','dddd','eeeee'],3))"
      ],
      "execution_count": null,
      "outputs": [
        {
          "output_type": "stream",
          "text": [
            "['dddd', 'eeeee']\n"
          ],
          "name": "stdout"
        }
      ]
    },
    {
      "cell_type": "code",
      "metadata": {
        "colab": {
          "base_uri": "https://localhost:8080/"
        },
        "id": "Dn_ACXMX6mn1",
        "outputId": "3a71173f-c97c-4e6d-de66-2e52f38678fe"
      },
      "source": [
        "# 2.1 Write a Python program using function concept that maps list of words into a list of integers\n",
        "# representing the lengths of the corresponding words .\n",
        "# Hint: If a list [ ab,cde,erty] is passed on to the python function output should come as [2,3,4]\n",
        "# Here 2,3 and 4 are the lengths of the words in the list.\n",
        "\n",
        "def len_words(list_words):\n",
        "  return [len(x) for x in list_words]\n",
        "\n",
        "print(len_words([ 'ab','cde','erty']))"
      ],
      "execution_count": 2,
      "outputs": [
        {
          "output_type": "stream",
          "text": [
            "[2, 3, 4]\n"
          ],
          "name": "stdout"
        }
      ]
    },
    {
      "cell_type": "code",
      "metadata": {
        "colab": {
          "base_uri": "https://localhost:8080/"
        },
        "id": "6ki6guCf7eTY",
        "outputId": "6d45971a-b455-495c-c660-f09e162a473b"
      },
      "source": [
        "# 2.2 Write a Python function which takes a character (i.e. a string of length 1) and returns True if\n",
        "# it is a vowel, False otherwise.\n",
        "\n",
        "def vowel(character):\n",
        "  return (False,True)[character in  'aeiou']\n",
        "print(vowel('f'))\n",
        "\n"
      ],
      "execution_count": 6,
      "outputs": [
        {
          "output_type": "stream",
          "text": [
            "False\n"
          ],
          "name": "stdout"
        }
      ]
    }
  ]
}